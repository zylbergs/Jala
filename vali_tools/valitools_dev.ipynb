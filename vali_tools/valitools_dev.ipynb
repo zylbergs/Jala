{
 "cells": [
  {
   "cell_type": "code",
   "execution_count": 1,
   "metadata": {},
   "outputs": [],
   "source": [
    "import pandas as pd"
   ]
  },
  {
   "cell_type": "code",
   "execution_count": null,
   "metadata": {},
   "outputs": [],
   "source": [
    "#data null health\n",
    "def check_health(df,dtype='all'):\n",
    "    nulls = df.isnull().sum().reset_index()\n",
    "    nulls.columns = ['col_name','null_count']\n",
    "    unique = df.nunique().reset_index()\n",
    "    unique.columns = ['col_name','unique_count']\n",
    "    out = nulls.merge(unique,how='left',on='col_name')\n",
    "    out['row_count'] = df.shape[0]\n",
    "    out['null_pct'] = out['null_count']/out['row_count']\n",
    "    out['unique_pct'] = out['unique_count'] / out['row_count']\n",
    "    out['dupe_count'] = out['row_count'] - out['unique_count']\n",
    "    out['dupe_pct'] = out['dupe_count']/out['row_count']\n",
    "    \n",
    "    dtype_int = df.dtypes.reset_index()\n",
    "    dtype_int.columns = ['col_name','col_dtype']\n",
    "    dtype_int.col_dtype = dtype_int.col_dtype.astype(str)\n",
    "    int_col = dtype_int[dtype_int.col_dtype.isin(['int64','float64'])]\n",
    "    int_col = dtype_int[dtype_int.col_dtype.isin(['int64','float64'])]\n",
    "    int_info = df[int_col.col_name.values].describe().T.reset_index()\n",
    "    int_info.columns = ['col_name','count','mean','std','min','25_pct','50_pct','75_pct','max']\n",
    "    int_info = int_info[['col_name','mean','std','min','max','25_pct','50_pct','75_pct']]\n",
    "    int_info['col_type'] = 'numeric'\n",
    "        \n",
    "    dtype_obj = df.dtypes.reset_index()\n",
    "    dtype_obj.columns = ['col_name','col_dtype']\n",
    "    dtype_obj.col_dtype = dtype_obj.col_dtype.astype(str)\n",
    "    obj_col = dtype_obj[dtype_obj.col_dtype.isin(['object'])]\n",
    "    obj_col = df[obj_col.col_name.values].describe().T.reset_index()\n",
    "    obj_col.columns = ['col_name','count','unique','mode','freq']\n",
    "    obj_col = obj_col[['col_name','mode','freq']]\n",
    "    obj_col['col_type'] = 'object'\n",
    "    out= out[['col_name','null_count','unique_count','row_count','dupe_count','null_pct','unique_pct','dupe_pct']]\n",
    "    \n",
    "    if dtype=='all':\n",
    "        out_1 = out.merge(int_info,how='left',on='col_name').merge(obj_col,how='left',on='col_name')\n",
    "        out_1['col_type_x'] = out_1['col_type_x'].fillna(out_1['col_type_y'])\n",
    "        out_1.rename(columns={'col_type_x':'col_types'},inplace=True)\n",
    "        return out_1.drop(columns='col_type_y')\n",
    "    if dtype=='num_only':\n",
    "        out_2 = out.merge(int_info,how='inner',on='col_name')\n",
    "        return out_2\n",
    "    if dtype=='obj_only':\n",
    "        out_3 = out.merge(obj_col,how='inner',on='col_name')\n",
    "        return out_3\n",
    "    if dtype=='basic':\n",
    "        return out\n"
   ]
  }
 ],
 "metadata": {
  "kernelspec": {
   "display_name": "Python 3",
   "language": "python",
   "name": "python3"
  },
  "language_info": {
   "codemirror_mode": {
    "name": "ipython",
    "version": 3
   },
   "file_extension": ".py",
   "mimetype": "text/x-python",
   "name": "python",
   "nbconvert_exporter": "python",
   "pygments_lexer": "ipython3",
   "version": "3.10.9"
  }
 },
 "nbformat": 4,
 "nbformat_minor": 2
}
